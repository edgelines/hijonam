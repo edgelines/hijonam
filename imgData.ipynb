{
 "cells": [
  {
   "attachments": {},
   "cell_type": "markdown",
   "metadata": {},
   "source": [
    "Artworks 전처리"
   ]
  },
  {
   "cell_type": "code",
   "execution_count": 11,
   "metadata": {},
   "outputs": [],
   "source": [
    "import pandas as pd\n",
    "def 그림파일_리스트_여러개(df):\n",
    "    result = pd.DataFrame()\n",
    "    tmp_list = []\n",
    "    for i in range( len(df) -1 ) :\n",
    "        if df.iloc[[i]].imgTitle.values[0].split('_')[0] == df.iloc[[i+1]].imgTitle.values[0].split('_')[0] :\n",
    "            df_tmp = df.iloc[[i]]\n",
    "            df_tmp.imgTitle.values[0] = df.iloc[[i]].imgTitle.values[0].split('_')[0]\n",
    "            tmp_list.append(df_tmp.fileName.values[0])\n",
    "        else :\n",
    "            df_tmp.fileName.values[0] = tmp_list\n",
    "            tmp_list = []\n",
    "            result = pd.concat([result, df_tmp])\n",
    "    return result\n",
    "\n",
    "def 그림파일_전처리(df):\n",
    "    result = pd.DataFrame()\n",
    "    for i in range(len(df)) :\n",
    "        tmp_list = []\n",
    "        df_tmp = df.iloc[[i]]\n",
    "        tmp_list.append(df_tmp.fileName.values[0])\n",
    "        df_tmp.fileName.values[0] = tmp_list\n",
    "        result = pd.concat([result, df_tmp])\n",
    "    return result"
   ]
  },
  {
   "cell_type": "code",
   "execution_count": 48,
   "metadata": {},
   "outputs": [],
   "source": [
    "df = pd.read_excel('Artworks.xlsx')\n",
    "Painting = df[df['class'] == 'Painting']\n",
    "Patina = df[df['class'] == 'Patina']\n",
    "Fabric = df[df['class'] == 'Fabric Collage']\n",
    "Ottchil = df[df['class'] == 'Ottchil (Korean Lacquer Work)']\n",
    "Installation = df[df['class'] =='Installation']\n",
    "삼베 = Ottchil[Ottchil.subject == '삼베']\n",
    "자개 = Ottchil[Ottchil.subject == '자개']\n",
    "삼베 = 그림파일_리스트_여러개(삼베)\n",
    "자개 = 그림파일_리스트_여러개(자개)\n",
    "\n",
    "Painting = 그림파일_전처리(Painting)\n",
    "Patina = 그림파일_전처리(Patina)\n",
    "Fabric = 그림파일_전처리(Fabric)\n",
    "Ottchil = 그림파일_전처리(Ottchil)\n",
    "Installation = 그림파일_전처리(Installation)\n",
    "\n",
    "result = pd.concat([Painting, Patina, Fabric, 삼베, 자개, Installation])\n",
    "\n",
    "result.imgID = [i for i in range(len(result))]\n",
    "result.to_json('public/json/Artworks.json', orient = 'records', force_ascii=False)"
   ]
  },
  {
   "cell_type": "code",
   "execution_count": 59,
   "metadata": {},
   "outputs": [],
   "source": [
    "import pandas as pd\n",
    "read = pd.read_json('public/json/Artworks.json')\n",
    "read.imgID = [i for i in range(len(read))]\n",
    "read.to_json('public/json/Artworks.json', orient = 'records', force_ascii=False)"
   ]
  },
  {
   "cell_type": "code",
   "execution_count": 5,
   "metadata": {},
   "outputs": [],
   "source": [
    "import pandas as pd\n",
    "read = pd.read_json('public/json/Artworks.json')\n",
    "read['imgSize-w'] = read['imgSize-w'] / 10\n",
    "read['imgSize-h'] = read['imgSize-h'] / 10\n",
    "read.to_json('public/json/Artworks.json', orient = 'records', force_ascii=False)"
   ]
  },
  {
   "attachments": {},
   "cell_type": "markdown",
   "metadata": {},
   "source": [
    "Exhibition"
   ]
  },
  {
   "cell_type": "code",
   "execution_count": 69,
   "metadata": {},
   "outputs": [],
   "source": [
    "import pandas as pd\n",
    "df = pd.read_excel('Exhibition.xlsx')\n",
    "df = 그림파일_전처리(df)\n",
    "\n",
    "for i in range( len(df) ) :\n",
    "    if i == 0 : pass\n",
    "    elif i > 0 :\n",
    "        if df.subject.values[i] == df.subject.values[i-1] :\n",
    "            df.fileName.values[i] = df.fileName.values[i-1] + df.fileName.values[i]\n",
    "        else :\n",
    "            df.fileName.values[i] = df.fileName.values[i]\n",
    "df = df.drop_duplicates(['subject'], keep='last')\n",
    "df = df.sort_values(by='dayStart', ascending=False)\n",
    "df.imgID = [i for i in range(len(df))]\n",
    "df = df.reset_index(drop=True)\n",
    "df.to_json('public/json/Exhibition.json', orient = 'records', force_ascii=False)"
   ]
  },
  {
   "cell_type": "code",
   "execution_count": 70,
   "metadata": {},
   "outputs": [
    {
     "data": {
      "text/html": [
       "<div>\n",
       "<style scoped>\n",
       "    .dataframe tbody tr th:only-of-type {\n",
       "        vertical-align: middle;\n",
       "    }\n",
       "\n",
       "    .dataframe tbody tr th {\n",
       "        vertical-align: top;\n",
       "    }\n",
       "\n",
       "    .dataframe thead th {\n",
       "        text-align: right;\n",
       "    }\n",
       "</style>\n",
       "<table border=\"1\" class=\"dataframe\">\n",
       "  <thead>\n",
       "    <tr style=\"text-align: right;\">\n",
       "      <th></th>\n",
       "      <th>category</th>\n",
       "      <th>subject</th>\n",
       "      <th>imgID</th>\n",
       "      <th>imgTitle</th>\n",
       "      <th>dayStart</th>\n",
       "      <th>dayEnd</th>\n",
       "      <th>fileName</th>\n",
       "    </tr>\n",
       "  </thead>\n",
       "  <tbody>\n",
       "    <tr>\n",
       "      <th>0</th>\n",
       "      <td>Exhibtions</td>\n",
       "      <td>Saphira &amp; ventura Gallery</td>\n",
       "      <td>0</td>\n",
       "      <td>Saphira &amp; Ventura Gallery_07</td>\n",
       "      <td>2022.10.20</td>\n",
       "      <td>2022.10.31</td>\n",
       "      <td>[Saphira &amp; Ventura Gallery_00_2022.jpg, Saphir...</td>\n",
       "    </tr>\n",
       "    <tr>\n",
       "      <th>1</th>\n",
       "      <td>Exhibtions</td>\n",
       "      <td>흰물결갤러리</td>\n",
       "      <td>1</td>\n",
       "      <td>흰물결갤러리10</td>\n",
       "      <td>2022.04.14</td>\n",
       "      <td>2022.05.31</td>\n",
       "      <td>[흰물결갤러리01_2022.jpg, 흰물결갤러리02_2022.jpg, 흰물결갤러리0...</td>\n",
       "    </tr>\n",
       "    <tr>\n",
       "      <th>2</th>\n",
       "      <td>Exhibtions</td>\n",
       "      <td>China Contemporary Haman</td>\n",
       "      <td>2</td>\n",
       "      <td>China2</td>\n",
       "      <td>2017.5.27</td>\n",
       "      <td>2017.6.19</td>\n",
       "      <td>[China1_2017.jpg, China2_2017.jpg]</td>\n",
       "    </tr>\n",
       "    <tr>\n",
       "      <th>3</th>\n",
       "      <td>Exhibtions</td>\n",
       "      <td>Greece In Dialog with Greek History</td>\n",
       "      <td>3</td>\n",
       "      <td>Greece5</td>\n",
       "      <td>2015.5.30</td>\n",
       "      <td>2015.5.30</td>\n",
       "      <td>[Greece1_2015.jpg, Greece2_2015.jpg, Greece3_2...</td>\n",
       "    </tr>\n",
       "  </tbody>\n",
       "</table>\n",
       "</div>"
      ],
      "text/plain": [
       "     category                              subject  imgID  \\\n",
       "0  Exhibtions            Saphira & ventura Gallery      0   \n",
       "1  Exhibtions                               흰물결갤러리      1   \n",
       "2  Exhibtions             China Contemporary Haman      2   \n",
       "3  Exhibtions  Greece In Dialog with Greek History      3   \n",
       "\n",
       "                       imgTitle    dayStart      dayEnd  \\\n",
       "0  Saphira & Ventura Gallery_07  2022.10.20  2022.10.31   \n",
       "1                      흰물결갤러리10  2022.04.14  2022.05.31   \n",
       "2                        China2   2017.5.27   2017.6.19   \n",
       "3                       Greece5   2015.5.30   2015.5.30   \n",
       "\n",
       "                                            fileName  \n",
       "0  [Saphira & Ventura Gallery_00_2022.jpg, Saphir...  \n",
       "1  [흰물결갤러리01_2022.jpg, 흰물결갤러리02_2022.jpg, 흰물결갤러리0...  \n",
       "2                 [China1_2017.jpg, China2_2017.jpg]  \n",
       "3  [Greece1_2015.jpg, Greece2_2015.jpg, Greece3_2...  "
      ]
     },
     "execution_count": 70,
     "metadata": {},
     "output_type": "execute_result"
    }
   ],
   "source": [
    "df"
   ]
  }
 ],
 "metadata": {
  "kernelspec": {
   "display_name": "Python 3",
   "language": "python",
   "name": "python3"
  },
  "language_info": {
   "codemirror_mode": {
    "name": "ipython",
    "version": 3
   },
   "file_extension": ".py",
   "mimetype": "text/x-python",
   "name": "python",
   "nbconvert_exporter": "python",
   "pygments_lexer": "ipython3",
   "version": "3.10.9"
  },
  "orig_nbformat": 4,
  "vscode": {
   "interpreter": {
    "hash": "b0fa6594d8f4cbf19f97940f81e996739fb7646882a419484c72d19e05852a7e"
   }
  }
 },
 "nbformat": 4,
 "nbformat_minor": 2
}
