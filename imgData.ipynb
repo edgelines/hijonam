{
 "cells": [
  {
   "attachments": {},
   "cell_type": "markdown",
   "metadata": {},
   "source": [
    "Artworks 전처리"
   ]
  },
  {
   "cell_type": "code",
   "execution_count": 1,
   "metadata": {},
   "outputs": [],
   "source": [
    "import pandas as pd\n",
    "def 이미지_여러개(df) : \n",
    "    for i in range(len(df) ) :\n",
    "        if i == 0 :\n",
    "            df.fileName.values[i] = df.fileName.values[i]\n",
    "            df.imgTitle.values[i] = df.imgTitle.values[i].split('_')[0]\n",
    "        else :\n",
    "            if df.imgTitle.values[i].split('_')[0] == df.imgTitle.values[i-1].split('_')[0] :\n",
    "                df.fileName.values[i] = df.fileName.values[i-1] + df.fileName.values[i]\n",
    "                df.imgTitle.values[i] = df.imgTitle.values[i].split('_')[0]\n",
    "            else :\n",
    "                df.fileName.values[i] = df.fileName.values[i]\n",
    "                df.imgTitle.values[i] = df.imgTitle.values[i].split('_')[0]\n",
    "    df = df.drop_duplicates(['imgTitle'], keep='last')\n",
    "    return df\n",
    "\n",
    "def 그림파일_전처리(df):\n",
    "    result = pd.DataFrame()\n",
    "    for i in range(len(df)) :\n",
    "        tmp_list = []\n",
    "        df_tmp = df.iloc[[i]]\n",
    "        tmp_list.append(df_tmp.fileName.values[0])\n",
    "        df_tmp.fileName.values[0] = tmp_list\n",
    "        result = pd.concat([result, df_tmp])\n",
    "    return result"
   ]
  },
  {
   "cell_type": "code",
   "execution_count": 3,
   "metadata": {},
   "outputs": [],
   "source": [
    "df = pd.read_excel('Artworks.xlsx')\n",
    "df= 그림파일_전처리(df)\n",
    "Painting = df[df['class'] == 'Painting']\n",
    "Patina = df[df['class'] == 'Patina']\n",
    "Fabric = df[df['class'] == 'Fabric Collage']\n",
    "Ottchil = df[df['class'] == 'Ottchil (Korean Lacquer Work)']\n",
    "Installation = df[df['class'] =='Installation']\n",
    "삼베 = Ottchil[Ottchil.subject == 'Hemp Cloth, Glutinous Rice']\n",
    "자개 = Ottchil[Ottchil.subject == 'Hemp Cloth, Glutinous Rice, Mother-of–Pearl']\n",
    "자개평면 = Ottchil[Ottchil.subject == 'Mother-of–Pearl on Metal']\n",
    "한지 = df[df['class'] == 'Hanji']\n",
    "삼베 = 이미지_여러개(삼베)\n",
    "자개 = 이미지_여러개(자개)\n",
    "Installation = 이미지_여러개(Installation)\n",
    "\n",
    "result = pd.concat([Painting, Patina, Fabric, 한지, 삼베, 자개, 자개평면, Installation])\n",
    "\n",
    "result.imgID = [i for i in range(len(result))]\n",
    "result\n",
    "result.to_json('public/json/Artworks.json', orient = 'records', force_ascii=False)"
   ]
  },
  {
   "cell_type": "code",
   "execution_count": 54,
   "metadata": {},
   "outputs": [
    {
     "data": {
      "text/plain": [
       "['Dragon Above the Clouds01-2017.jpg',\n",
       " 'Dragon Above the Clouds02-2017.jpg',\n",
       " 'Dragon Above the Clouds03-2017.jpg']"
      ]
     },
     "execution_count": 54,
     "metadata": {},
     "output_type": "execute_result"
    }
   ],
   "source": [
    "result.fileName[103]"
   ]
  },
  {
   "attachments": {},
   "cell_type": "markdown",
   "metadata": {},
   "source": [
    "Exhibition"
   ]
  },
  {
   "cell_type": "code",
   "execution_count": 4,
   "metadata": {},
   "outputs": [],
   "source": [
    "import pandas as pd\n",
    "df = pd.read_excel('Exhibition.xlsx')\n",
    "df = 그림파일_전처리(df)\n",
    "\n",
    "for i in range( len(df) ) :\n",
    "    if i == 0 : pass\n",
    "    elif i > 0 :\n",
    "        if df.subject.values[i] == df.subject.values[i-1] :\n",
    "            df.fileName.values[i] = df.fileName.values[i-1] + df.fileName.values[i]\n",
    "        else :\n",
    "            df.fileName.values[i] = df.fileName.values[i]\n",
    "df = df.drop_duplicates(['subject'], keep='last')\n",
    "df = df.sort_values(by='dayStart', ascending=False)\n",
    "df.imgID = [i for i in range(len(df))]\n",
    "df = df.reset_index(drop=True)\n",
    "df.to_json('public/json/Exhibition.json', orient = 'records', force_ascii=False)"
   ]
  }
 ],
 "metadata": {
  "kernelspec": {
   "display_name": "Python 3",
   "language": "python",
   "name": "python3"
  },
  "language_info": {
   "codemirror_mode": {
    "name": "ipython",
    "version": 3
   },
   "file_extension": ".py",
   "mimetype": "text/x-python",
   "name": "python",
   "nbconvert_exporter": "python",
   "pygments_lexer": "ipython3",
   "version": "3.10.9"
  },
  "orig_nbformat": 4,
  "vscode": {
   "interpreter": {
    "hash": "b0fa6594d8f4cbf19f97940f81e996739fb7646882a419484c72d19e05852a7e"
   }
  }
 },
 "nbformat": 4,
 "nbformat_minor": 2
}
